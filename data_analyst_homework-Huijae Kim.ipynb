{
 "cells": [
  {
   "cell_type": "markdown",
   "metadata": {},
   "source": [
    "## Analyzing EIA Electricity Data\n",
    "\n",
    "The U.S. Energy Information Agency has Annual Electric Power Industry data spanning from 1990 to 2016. The data can be found here:\n",
    "\n",
    "https://www.eia.gov/electricity/data/eia861/\n",
    "\n",
    "The Data Analyst should use at least the 2016 dataset to answer the questions. The creativity of how you explore the data, present it, and analyze it will be key. Providing aditional analysis based on your background will be a huge plus.\n",
    "\n",
    "Please provide all the python code used to answer the questions."
   ]
  },
  {
   "cell_type": "code",
   "execution_count": 1,
   "metadata": {
    "collapsed": true
   },
   "outputs": [],
   "source": [
    "import pandas as pd\n",
    "from collections import Counter\n",
    "import matplotlib.pyplot as plt\n",
    "import numpy as np"
   ]
  },
  {
   "cell_type": "code",
   "execution_count": 2,
   "metadata": {},
   "outputs": [
    {
     "data": {
      "text/html": [
       "<div>\n",
       "<style>\n",
       "    .dataframe thead tr:only-child th {\n",
       "        text-align: right;\n",
       "    }\n",
       "\n",
       "    .dataframe thead th {\n",
       "        text-align: left;\n",
       "    }\n",
       "\n",
       "    .dataframe tbody tr th {\n",
       "        vertical-align: top;\n",
       "    }\n",
       "</style>\n",
       "<table border=\"1\" class=\"dataframe\">\n",
       "  <thead>\n",
       "    <tr>\n",
       "      <th>Utility Characteristics</th>\n",
       "      <th>index</th>\n",
       "      <th colspan=\"3\" halign=\"left\">Utility Characteristics</th>\n",
       "      <th colspan=\"5\" halign=\"left\">Number of</th>\n",
       "      <th colspan=\"12\" halign=\"left\">Types of Program</th>\n",
       "    </tr>\n",
       "    <tr>\n",
       "      <th></th>\n",
       "      <th></th>\n",
       "      <th>Unnamed: 0_level_1</th>\n",
       "      <th>Unnamed: 1_level_1</th>\n",
       "      <th>Unnamed: 2_level_1</th>\n",
       "      <th colspan=\"5\" halign=\"left\">Customers Enrolled</th>\n",
       "      <th>Time of Use Pricing</th>\n",
       "      <th>...</th>\n",
       "      <th colspan=\"2\" halign=\"left\">Variable Peak Pricing</th>\n",
       "      <th colspan=\"4\" halign=\"left\">Critical Peak Pricing</th>\n",
       "      <th colspan=\"4\" halign=\"left\">Critical Peak Rebate</th>\n",
       "    </tr>\n",
       "    <tr>\n",
       "      <th>Data Year</th>\n",
       "      <th></th>\n",
       "      <th>Utility Number</th>\n",
       "      <th>Utility Name</th>\n",
       "      <th>State</th>\n",
       "      <th>Residential</th>\n",
       "      <th>Commercial</th>\n",
       "      <th>Industrial</th>\n",
       "      <th>Transportation</th>\n",
       "      <th>Total</th>\n",
       "      <th>Residential</th>\n",
       "      <th>...</th>\n",
       "      <th>Industrial</th>\n",
       "      <th>Transportation</th>\n",
       "      <th>Residential</th>\n",
       "      <th>Commercial</th>\n",
       "      <th>Industrial</th>\n",
       "      <th>Transportation</th>\n",
       "      <th>Residential</th>\n",
       "      <th>Commercial</th>\n",
       "      <th>Industrial</th>\n",
       "      <th>Transportation</th>\n",
       "    </tr>\n",
       "  </thead>\n",
       "  <tbody>\n",
       "    <tr>\n",
       "      <th>0</th>\n",
       "      <td>2016</td>\n",
       "      <td>55</td>\n",
       "      <td>City of Aberdeen - (MS)</td>\n",
       "      <td>MS</td>\n",
       "      <td>0</td>\n",
       "      <td>16</td>\n",
       "      <td>1</td>\n",
       "      <td>0</td>\n",
       "      <td>17</td>\n",
       "      <td>N</td>\n",
       "      <td>...</td>\n",
       "      <td>N</td>\n",
       "      <td>N</td>\n",
       "      <td>N</td>\n",
       "      <td>N</td>\n",
       "      <td>N</td>\n",
       "      <td>N</td>\n",
       "      <td>N</td>\n",
       "      <td>N</td>\n",
       "      <td>N</td>\n",
       "      <td>N</td>\n",
       "    </tr>\n",
       "    <tr>\n",
       "      <th>1</th>\n",
       "      <td>2016</td>\n",
       "      <td>84</td>\n",
       "      <td>A &amp; N Electric Coop</td>\n",
       "      <td>VA</td>\n",
       "      <td>4</td>\n",
       "      <td>.</td>\n",
       "      <td>.</td>\n",
       "      <td>.</td>\n",
       "      <td>4</td>\n",
       "      <td>Y</td>\n",
       "      <td>...</td>\n",
       "      <td>N</td>\n",
       "      <td>N</td>\n",
       "      <td>N</td>\n",
       "      <td>N</td>\n",
       "      <td>N</td>\n",
       "      <td>N</td>\n",
       "      <td>N</td>\n",
       "      <td>N</td>\n",
       "      <td>N</td>\n",
       "      <td>N</td>\n",
       "    </tr>\n",
       "    <tr>\n",
       "      <th>2</th>\n",
       "      <td>2016</td>\n",
       "      <td>97</td>\n",
       "      <td>Adams Electric Coop</td>\n",
       "      <td>IL</td>\n",
       "      <td>35</td>\n",
       "      <td>5</td>\n",
       "      <td>.</td>\n",
       "      <td>.</td>\n",
       "      <td>40</td>\n",
       "      <td>Y</td>\n",
       "      <td>...</td>\n",
       "      <td>N</td>\n",
       "      <td>N</td>\n",
       "      <td>N</td>\n",
       "      <td>N</td>\n",
       "      <td>N</td>\n",
       "      <td>N</td>\n",
       "      <td>N</td>\n",
       "      <td>N</td>\n",
       "      <td>N</td>\n",
       "      <td>N</td>\n",
       "    </tr>\n",
       "    <tr>\n",
       "      <th>3</th>\n",
       "      <td>2016</td>\n",
       "      <td>108</td>\n",
       "      <td>Adams-Columbia Electric Coop</td>\n",
       "      <td>WI</td>\n",
       "      <td>440</td>\n",
       "      <td>105</td>\n",
       "      <td>.</td>\n",
       "      <td>.</td>\n",
       "      <td>545</td>\n",
       "      <td>Y</td>\n",
       "      <td>...</td>\n",
       "      <td>N</td>\n",
       "      <td>N</td>\n",
       "      <td>N</td>\n",
       "      <td>N</td>\n",
       "      <td>N</td>\n",
       "      <td>N</td>\n",
       "      <td>N</td>\n",
       "      <td>N</td>\n",
       "      <td>N</td>\n",
       "      <td>N</td>\n",
       "    </tr>\n",
       "    <tr>\n",
       "      <th>4</th>\n",
       "      <td>2016</td>\n",
       "      <td>162</td>\n",
       "      <td>Aiken Electric Coop Inc</td>\n",
       "      <td>SC</td>\n",
       "      <td>0</td>\n",
       "      <td>43</td>\n",
       "      <td>.</td>\n",
       "      <td>.</td>\n",
       "      <td>43</td>\n",
       "      <td>Y</td>\n",
       "      <td>...</td>\n",
       "      <td>N</td>\n",
       "      <td>N</td>\n",
       "      <td>N</td>\n",
       "      <td>N</td>\n",
       "      <td>N</td>\n",
       "      <td>N</td>\n",
       "      <td>N</td>\n",
       "      <td>N</td>\n",
       "      <td>N</td>\n",
       "      <td>N</td>\n",
       "    </tr>\n",
       "  </tbody>\n",
       "</table>\n",
       "<p>5 rows × 29 columns</p>\n",
       "</div>"
      ],
      "text/plain": [
       "Utility Characteristics index Utility Characteristics  \\\n",
       "                                   Unnamed: 0_level_1   \n",
       "Data Year                              Utility Number   \n",
       "0                        2016                      55   \n",
       "1                        2016                      84   \n",
       "2                        2016                      97   \n",
       "3                        2016                     108   \n",
       "4                        2016                     162   \n",
       "\n",
       "Utility Characteristics                                                   \\\n",
       "                                   Unnamed: 1_level_1 Unnamed: 2_level_1   \n",
       "Data Year                                Utility Name              State   \n",
       "0                             City of Aberdeen - (MS)                 MS   \n",
       "1                                 A & N Electric Coop                 VA   \n",
       "2                                 Adams Electric Coop                 IL   \n",
       "3                        Adams-Columbia Electric Coop                 WI   \n",
       "4                             Aiken Electric Coop Inc                 SC   \n",
       "\n",
       "Utility Characteristics          Number of                        \\\n",
       "                        Customers Enrolled                         \n",
       "Data Year                      Residential Commercial Industrial   \n",
       "0                                        0         16          1   \n",
       "1                                        4          .          .   \n",
       "2                                       35          5          .   \n",
       "3                                      440        105          .   \n",
       "4                                        0         43          .   \n",
       "\n",
       "Utility Characteristics                         Types of Program  \\\n",
       "                                             Time of Use Pricing   \n",
       "Data Year               Transportation Total         Residential   \n",
       "0                                    0    17                   N   \n",
       "1                                    .     4                   Y   \n",
       "2                                    .    40                   Y   \n",
       "3                                    .   545                   Y   \n",
       "4                                    .    43                   Y   \n",
       "\n",
       "Utility Characteristics      ...                                             \\\n",
       "                             ...       Variable Peak Pricing                  \n",
       "Data Year                    ...                  Industrial Transportation   \n",
       "0                            ...                           N              N   \n",
       "1                            ...                           N              N   \n",
       "2                            ...                           N              N   \n",
       "3                            ...                           N              N   \n",
       "4                            ...                           N              N   \n",
       "\n",
       "Utility Characteristics                                              \\\n",
       "                        Critical Peak Pricing                         \n",
       "Data Year                         Residential Commercial Industrial   \n",
       "0                                           N          N          N   \n",
       "1                                           N          N          N   \n",
       "2                                           N          N          N   \n",
       "3                                           N          N          N   \n",
       "4                                           N          N          N   \n",
       "\n",
       "Utility Characteristics                                                 \\\n",
       "                                       Critical Peak Rebate              \n",
       "Data Year               Transportation          Residential Commercial   \n",
       "0                                    N                    N          N   \n",
       "1                                    N                    N          N   \n",
       "2                                    N                    N          N   \n",
       "3                                    N                    N          N   \n",
       "4                                    N                    N          N   \n",
       "\n",
       "Utility Characteristics                            \n",
       "                                                   \n",
       "Data Year               Industrial Transportation  \n",
       "0                                N              N  \n",
       "1                                N              N  \n",
       "2                                N              N  \n",
       "3                                N              N  \n",
       "4                                N              N  \n",
       "\n",
       "[5 rows x 29 columns]"
      ]
     },
     "execution_count": 2,
     "metadata": {},
     "output_type": "execute_result"
    }
   ],
   "source": [
    "df = pd.read_excel('/Users/jaykim/Downloads/Drift/f8612016/Dynamic_Pricing2016.xlsx', header=[0, 1, 2],index_col=None)\n",
    "df.reset_index(inplace=True)\n",
    "df.head(5)"
   ]
  },
  {
   "cell_type": "markdown",
   "metadata": {},
   "source": [
    "<hr/>\n",
    "## Dynamic Electricity Pricing\n",
    "\n",
    "Some questions may require no data analysis (only research), while others may require both."
   ]
  },
  {
   "cell_type": "markdown",
   "metadata": {
    "collapsed": true
   },
   "source": [
    "### 1) Which U.S. states have deregulated retail electricity markets?"
   ]
  },
  {
   "cell_type": "code",
   "execution_count": null,
   "metadata": {},
   "outputs": [],
   "source": [
    "CA, CT, DE, IL, ME, MD, MA, MI, NH, NJ, NY, OH, OR, PA, RI, TX, VI, and Washington DC"
   ]
  },
  {
   "cell_type": "code",
   "execution_count": null,
   "metadata": {
    "collapsed": true
   },
   "outputs": [],
   "source": [
    "<Reference>\n",
    "https://www.electricchoice.com/map-deregulated-energy-markets/"
   ]
  },
  {
   "cell_type": "markdown",
   "metadata": {},
   "source": [
    "</br>\n",
    "</br>\n",
    "</br>\n",
    "</br>\n",
    "</br>\n",
    "</br>\n",
    "</br>\n",
    "</br>\n",
    "</br>\n",
    "</br>\n",
    "</br>\n",
    "</br>\n",
    "</br>\n",
    "</br>\n",
    "</br>"
   ]
  },
  {
   "cell_type": "markdown",
   "metadata": {},
   "source": [
    "### 2) Which U.S. states have the most power utilities utilizing dynamic pricing?"
   ]
  },
  {
   "cell_type": "code",
   "execution_count": null,
   "metadata": {
    "collapsed": true
   },
   "outputs": [],
   "source": []
  },
  {
   "cell_type": "code",
   "execution_count": 3,
   "metadata": {
    "collapsed": true
   },
   "outputs": [],
   "source": [
    "def num_utility_dynamic(df):\n",
    "    # Counting a number of utilities in each state\n",
    "    states = Counter(df['Utility Characteristics']['Unnamed: 2_level_1']['State'])\n",
    "    \n",
    "    # Looking for a state that has the maximum number of utilities\n",
    "    res=[]\n",
    "    for k,v in states.items():\n",
    "        if v== max(states.values()):\n",
    "            res.append(k)\n",
    "            \n",
    "    print('Number of utilities: %d' %(max(states.values())))\n",
    "    return res"
   ]
  },
  {
   "cell_type": "code",
   "execution_count": 4,
   "metadata": {},
   "outputs": [
    {
     "name": "stdout",
     "output_type": "stream",
     "text": [
      "Number of utilities: 66\n"
     ]
    },
    {
     "data": {
      "text/plain": [
       "['WI', 'TN']"
      ]
     },
     "execution_count": 4,
     "metadata": {},
     "output_type": "execute_result"
    }
   ],
   "source": [
    "num_utility_dynamic(df)"
   ]
  },
  {
   "cell_type": "markdown",
   "metadata": {},
   "source": [
    "</br>\n",
    "</br>\n",
    "</br>\n",
    "</br>\n",
    "</br>\n",
    "</br>\n",
    "</br>\n",
    "</br>\n",
    "</br>\n",
    "</br>\n",
    "</br>\n",
    "</br>\n",
    "</br>\n",
    "</br>\n",
    "</br>"
   ]
  },
  {
   "cell_type": "markdown",
   "metadata": {},
   "source": [
    "### 3) Which states have the most enrolled customers in dynamic pricing?"
   ]
  },
  {
   "cell_type": "code",
   "execution_count": null,
   "metadata": {
    "collapsed": true
   },
   "outputs": [],
   "source": []
  },
  {
   "cell_type": "code",
   "execution_count": 5,
   "metadata": {
    "collapsed": true
   },
   "outputs": [],
   "source": [
    "def num_cust_dynamic(df):\n",
    "    # Reorganize a DataFrame with relavant data\n",
    "    df2 = pd.DataFrame({'state':df['Utility Characteristics']['Unnamed: 2_level_1']['State'], \n",
    "                        'total':df['Number of']['Customers Enrolled']['Total']})\n",
    "    \n",
    "    # Calculating the total sum for each state\n",
    "    return df2.groupby(['state'])['total'].sum().reset_index(name ='TotalAmount').sort_values('TotalAmount', ascending=False).head(1)\n",
    " "
   ]
  },
  {
   "cell_type": "code",
   "execution_count": 6,
   "metadata": {},
   "outputs": [
    {
     "data": {
      "text/html": [
       "<div>\n",
       "<style>\n",
       "    .dataframe thead tr:only-child th {\n",
       "        text-align: right;\n",
       "    }\n",
       "\n",
       "    .dataframe thead th {\n",
       "        text-align: left;\n",
       "    }\n",
       "\n",
       "    .dataframe tbody tr th {\n",
       "        vertical-align: top;\n",
       "    }\n",
       "</style>\n",
       "<table border=\"1\" class=\"dataframe\">\n",
       "  <thead>\n",
       "    <tr style=\"text-align: right;\">\n",
       "      <th></th>\n",
       "      <th>state</th>\n",
       "      <th>TotalAmount</th>\n",
       "    </tr>\n",
       "  </thead>\n",
       "  <tbody>\n",
       "    <tr>\n",
       "      <th>4</th>\n",
       "      <td>CA</td>\n",
       "      <td>1859211</td>\n",
       "    </tr>\n",
       "  </tbody>\n",
       "</table>\n",
       "</div>"
      ],
      "text/plain": [
       "  state  TotalAmount\n",
       "4    CA      1859211"
      ]
     },
     "execution_count": 6,
     "metadata": {},
     "output_type": "execute_result"
    }
   ],
   "source": [
    "num_cust_dynamic(df)"
   ]
  },
  {
   "cell_type": "code",
   "execution_count": null,
   "metadata": {
    "collapsed": true
   },
   "outputs": [],
   "source": []
  },
  {
   "cell_type": "code",
   "execution_count": null,
   "metadata": {
    "collapsed": true
   },
   "outputs": [],
   "source": []
  },
  {
   "cell_type": "markdown",
   "metadata": {},
   "source": [
    "<hr/>\n",
    "## Metering\n",
    "\n",
    "Some questions may require no data analysis (only research), while others may require both."
   ]
  },
  {
   "cell_type": "markdown",
   "metadata": {},
   "source": [
    "</br>\n",
    "</br>\n",
    "</br>\n",
    "</br>\n",
    "</br>\n",
    "</br>"
   ]
  },
  {
   "cell_type": "markdown",
   "metadata": {
    "collapsed": true
   },
   "source": [
    "### 1) What policies are leading to more Net Metering customers in Southern California Edison in CA compared to Consolidated Edison in NY?"
   ]
  },
  {
   "cell_type": "markdown",
   "metadata": {},
   "source": [
    "In 2006, the solar tax credit in California was reduced by half, and installation and equipment costs have improved since then. The tax incentives led reduction in installation cost as shown in Figure 1 below. Governor Schwarzenegger launched a campaign called Million Solar Roofs in 2005 to expand the solar capacity, and he signed Net Energy Metering (NEM) into law in 2009. Tax incentive, installation cost reduction, and net metering policy in California led to a rapid growth in solar energy, and it became the very first state where solar energy generated by customers exceeded 1 gigawatt. Data from U.S. Energy Information Administraion shows that California has the largest installed capacity which is 4 times more than other states as shown in Figure 2 below, and the capacity in Californoia is about 6.65 time greater than that in New York.\n",
    "\n",
    "New York introduced Track Two to change the rate structure gradually to shift from net metering to Value of Distributed Energy Resources (DER) to focus on an accurate valuation of the benefits from DERs, while California focuses on evolving NEM to NEM 2.0 that can increase the average savings.\n",
    "\n",
    "The average annual sunshine in California is about 3055 hours while in New York is only 2120 hours. California naturally has a better environment to have a bigger NEM market considering the solar energy market is dominating compared to other technologies."
   ]
  },
  {
   "cell_type": "code",
   "execution_count": null,
   "metadata": {
    "collapsed": true
   },
   "outputs": [],
   "source": [
    "<Reference>\n",
    "https://www.eia.gov/electricity/data/eia861/\n",
    "http://www.scottmadden.com/wp-content/uploads/2017/05/ScottMadden_NEM_in_California_2017_0531.pdf\n",
    "http://www.california-solar.org/inform/history-of-california-solar-power.php\n",
    "http://www.scottmadden.com/wp-content/uploads/2016/12/SEPA-ScottMadden-51st-State-Report_DER-Integration-CA-NY.pdf\n",
    "https://www.currentresults.com/Weather/US/average-annual-state-sunshine.php"
   ]
  },
  {
   "cell_type": "code",
   "execution_count": 7,
   "metadata": {},
   "outputs": [
    {
     "data": {
      "image/png": "[encoded data removed]",
      "text/plain": [
       "<IPython.core.display.Image object>"
      ]
     },
     "execution_count": 7,
     "metadata": {},
     "output_type": "execute_result"
    }
   ],
   "source": [
    "from IPython.display import Image\n",
    "Image(filename='/Users/jaykim/Desktop/ScreenShot.png')"
   ]
  },
  {
   "cell_type": "code",
   "execution_count": 8,
   "metadata": {
    "collapsed": true
   },
   "outputs": [],
   "source": [
    "df_metering = pd.read_excel('/Users/jaykim/Downloads/Drift/f8612016/Net_Metering_2016.xlsx', header=[0, 1, 2, 3],index_col=None)\n",
    "df_metering.reset_index(inplace=True)\n",
    "df_metering.drop(df_metering.tail(1).index,inplace=True)"
   ]
  },
  {
   "cell_type": "code",
   "execution_count": 9,
   "metadata": {
    "collapsed": true
   },
   "outputs": [],
   "source": [
    "def metering_capacity(df_metering):\n",
    "    df_metering_state = pd.DataFrame({'State': df_metering['Utility Level Data - States']['Utility Characteristics']['Unnamed: 0_level_2']['State'],\n",
    "                                     'Capacity': df_metering['Utility Level Data - States']['All Technologies']['Capacity MW']['Total']})\n",
    "    total_cap=df_metering_state.groupby(['State'])['Capacity'].sum().reset_index(name ='TotalCapacity').sort_values('TotalCapacity', ascending=False).head(5)\n",
    "    print(total_cap)\n",
    "    %matplotlib inline\n",
    "    plt.figure(figsize=[10,6])\n",
    "    y_pos = np.arange(5)\n",
    "    plt.bar(y_pos, total_cap.TotalCapacity, align='center')\n",
    "    plt.xticks(y_pos, total_cap.State, fontsize=15)\n",
    "    plt.yticks(fontsize=15)\n",
    "    plt.ylabel('Total Capacity (MW)', fontsize=15)\n",
    "    plt.title('Figure 2. Top 5 States for NEM Capacity in 2016',fontsize=20)"
   ]
  },
  {
   "cell_type": "code",
   "execution_count": 10,
   "metadata": {},
   "outputs": [
    {
     "name": "stdout",
     "output_type": "stream",
     "text": [
      "   State  TotalCapacity\n",
      "4     CA       5449.640\n",
      "19    MA       1201.222\n",
      "31    NJ       1180.107\n",
      "3     AZ        900.267\n",
      "34    NY        819.982\n"
     ]
    },
    {
     "data": {
      "image/png": "[encoded data removed]",
      "text/plain": [
       "<matplotlib.figure.Figure at 0x10b19fac8>"
      ]
     },
     "metadata": {},
     "output_type": "display_data"
    }
   ],
   "source": [
    "metering_capacity(df_metering)"
   ]
  },
  {
   "cell_type": "code",
   "execution_count": null,
   "metadata": {
    "collapsed": true
   },
   "outputs": [],
   "source": []
  },
  {
   "cell_type": "markdown",
   "metadata": {},
   "source": [
    "### 2) Which utility has the most Net Metering Capacity (MW) by technology?"
   ]
  },
  {
   "cell_type": "code",
   "execution_count": null,
   "metadata": {
    "collapsed": true
   },
   "outputs": [],
   "source": []
  },
  {
   "cell_type": "code",
   "execution_count": 11,
   "metadata": {
    "collapsed": true
   },
   "outputs": [],
   "source": [
    "def net_metering_cap(df_metering):\n",
    "    # Slicing the data frame headers\n",
    "    tech = df_metering.xs('Utility Level Data - States',axis=1).columns.values.tolist()\n",
    "   \n",
    "    # To obtain a list of technologies\n",
    "    tech2=[]   \n",
    "    for i in range(3,len(tech)):\n",
    "        if tech[i][0] not in tech2:\n",
    "            tech2.append(tech[i][0])\n",
    "    \n",
    "    # To iterate through different technologies to find the max net metering capacity\n",
    "    for t in tech2:\n",
    "        max_cap = df_metering[df_metering['Utility Level Data - States'][t]['Capacity MW']['Total']\n",
    "                              ==max(df_metering['Utility Level Data - States'][t]['Capacity MW']['Total'])]\n",
    "        print(t,': %s, Capacity: %d (MW)' %(max_cap['Utility Level Data - States']['Utility Characteristics']['Unnamed: 2_level_2']['Utility Name'].iloc[0],\n",
    "                                   max_cap['Utility Level Data - States'][t]['Capacity MW']['Total'].iloc[0]))"
   ]
  },
  {
   "cell_type": "code",
   "execution_count": 12,
   "metadata": {},
   "outputs": [
    {
     "name": "stdout",
     "output_type": "stream",
     "text": [
      "Photovoltaic : Pacific Gas & Electric Co, Capacity: 2359 (MW)\n",
      "Wind : NSTAR Electric Company, Capacity: 33 (MW)\n",
      "Other : Pacific Gas & Electric Co, Capacity: 86 (MW)\n",
      "All Technologies : Pacific Gas & Electric Co, Capacity: 2470 (MW)\n"
     ]
    }
   ],
   "source": [
    "net_metering_cap(df_metering)"
   ]
  },
  {
   "cell_type": "code",
   "execution_count": null,
   "metadata": {
    "collapsed": true
   },
   "outputs": [],
   "source": []
  },
  {
   "cell_type": "code",
   "execution_count": null,
   "metadata": {
    "collapsed": true
   },
   "outputs": [],
   "source": []
  },
  {
   "cell_type": "markdown",
   "metadata": {},
   "source": [
    "<hr/>\n",
    "## Electricity Sales\n",
    "\n",
    "Some questions may require no data analysis (only research), while others may require both."
   ]
  },
  {
   "cell_type": "markdown",
   "metadata": {
    "collapsed": true
   },
   "source": [
    "### 1) Which Independent System Operator (ISO) (or also known as a Balancing Authority) region has the largest retail electricity sales?"
   ]
  },
  {
   "cell_type": "code",
   "execution_count": 13,
   "metadata": {
    "collapsed": true
   },
   "outputs": [],
   "source": [
    "df_saleCS = pd.read_excel('/Users/jaykim/Downloads/Drift/f8612016/Sales_Ult_cust_CS_2016.xlsx', header=[0, 1, 2],index_col=None)\n",
    "df_saleCS.reset_index(inplace=True)\n",
    "df_sale = pd.read_excel('/Users/jaykim/Downloads/Drift/f8612016/Sales_Ult_cust_2016.xlsx', header=[0, 1, 2],index_col=None)\n",
    "df_sale.reset_index(inplace=True)"
   ]
  },
  {
   "cell_type": "code",
   "execution_count": 14,
   "metadata": {
    "collapsed": true
   },
   "outputs": [],
   "source": [
    "def BA_sales(df_saleCS, df_sale):\n",
    "    # Reorganize a DataFrame with relavant data\n",
    "    BAcode = df_saleCS['Utility Characteristics']['Unnamed: 5_level_1']['BA Code'].tolist()\n",
    "    BAcode += df_sale['Utility Characteristics']['Unnamed: 7_level_1']['BA_CODE'].tolist()\n",
    "    sales = df_saleCS['TOTAL']['Sales']['Megawatthours'].tolist()\n",
    "    sales += df_sale['TOTAL']['Sales']['Megawatthours'].tolist()\n",
    "    df_sale_total = pd.DataFrame({'BAcode': BAcode, 'Sales': sales})\n",
    "    # Clean up\n",
    "    df_sale_total.dropna(inplace=True)\n",
    "    df_sale_total = df_sale_total[df_sale_total.Sales != '.']\n",
    "    \n",
    "    # Calculating the total sum grouped by balancing authority\n",
    "    max_sales = df_sale_total.groupby(['BAcode'])['Sales'].sum().reset_index(name ='TotalSales').sort_values('TotalSales', ascending=False).head(1)\n",
    "    print('%s has the largest electricity sales: %d' %(max_sales.BAcode.iloc[0], max_sales.TotalSales.iloc[0]))"
   ]
  },
  {
   "cell_type": "code",
   "execution_count": 15,
   "metadata": {},
   "outputs": [
    {
     "name": "stdout",
     "output_type": "stream",
     "text": [
      "PJM has the largest electricity sales: 1091624295\n"
     ]
    }
   ],
   "source": [
    "BA_sales(df_saleCS, df_sale)"
   ]
  },
  {
   "cell_type": "code",
   "execution_count": null,
   "metadata": {
    "collapsed": true
   },
   "outputs": [],
   "source": []
  },
  {
   "cell_type": "code",
   "execution_count": null,
   "metadata": {
    "collapsed": true
   },
   "outputs": [],
   "source": []
  },
  {
   "cell_type": "markdown",
   "metadata": {},
   "source": [
    "## Python Question \n",
    "Implement the function filter_by_class: It takes a feature matrix, X, an array of classes, y, and a class label, label. It should return all of the rows from X whose label is the given label."
   ]
  },
  {
   "cell_type": "raw",
   "metadata": {},
   "source": [
    "Example: \n",
    " >>> X = np.array([[1, 2, 3], [4, 5, 6], [7, 8, 9], [10, 11, 12]])\n",
    " >>> y = np.array([\"a\", \"c\", \"a\", \"b\"])\n",
    " >>> p.filter_by_class(X, y, \"a\")\n",
    " array([[1, 2, 3],\n",
    "        [7, 8, 9]])\n",
    " >>> p.filter_by_class(X, y, \"b\")\n",
    " array([[10, 11, 12]])"
   ]
  },
  {
   "cell_type": "markdown",
   "metadata": {},
   "source": [
    "</br>\n",
    "</br>\n",
    "</br>\n",
    "</br>\n",
    "</br>\n",
    "</br>"
   ]
  },
  {
   "cell_type": "code",
   "execution_count": 16,
   "metadata": {
    "collapsed": true
   },
   "outputs": [],
   "source": [
    "def filter_by_class(X, y, label):\n",
    "    return np.array([X[i] for i,item in enumerate(y) if item==label])"
   ]
  },
  {
   "cell_type": "markdown",
   "metadata": {},
   "source": [
    "</br>\n",
    "</br>\n",
    "</br>\n",
    "</br>\n",
    "</br>"
   ]
  },
  {
   "cell_type": "code",
   "execution_count": null,
   "metadata": {
    "collapsed": true
   },
   "outputs": [],
   "source": []
  },
  {
   "cell_type": "code",
   "execution_count": 17,
   "metadata": {},
   "outputs": [
    {
     "data": {
      "text/plain": [
       "array([[1, 2, 3],\n",
       "       [7, 8, 9]])"
      ]
     },
     "execution_count": 17,
     "metadata": {},
     "output_type": "execute_result"
    }
   ],
   "source": [
    "X = np.array([[1, 2, 3], [4, 5, 6], [7, 8, 9], [10, 11, 12]])\n",
    "y = np.array([\"a\", \"c\", \"a\", \"b\"])\n",
    "\n",
    "filter_by_class(X, y, \"a\")"
   ]
  },
  {
   "cell_type": "code",
   "execution_count": 18,
   "metadata": {},
   "outputs": [
    {
     "data": {
      "text/plain": [
       "array([[10, 11, 12]])"
      ]
     },
     "execution_count": 18,
     "metadata": {},
     "output_type": "execute_result"
    }
   ],
   "source": [
    "filter_by_class(X, y, \"b\")"
   ]
  },
  {
   "cell_type": "code",
   "execution_count": null,
   "metadata": {
    "collapsed": true
   },
   "outputs": [],
   "source": []
  }
 ],
 "metadata": {
  "kernelspec": {
   "display_name": "Python 3",
   "language": "python",
   "name": "python3"
  },
  "language_info": {
   "codemirror_mode": {
    "name": "ipython",
    "version": 3
   },
   "file_extension": ".py",
   "mimetype": "text/x-python",
   "name": "python",
   "nbconvert_exporter": "python",
   "pygments_lexer": "ipython3",
   "version": "3.6.1"
  },
  "toc": {
   "nav_menu": {},
   "number_sections": true,
   "sideBar": true,
   "skip_h1_title": false,
   "toc_cell": false,
   "toc_position": {},
   "toc_section_display": "block",
   "toc_window_display": false
  },
  "varInspector": {
   "cols": {
    "lenName": 16,
    "lenType": 16,
    "lenVar": 40
   },
   "kernels_config": {
    "python": {
     "delete_cmd_postfix": "",
     "delete_cmd_prefix": "del ",
     "library": "var_list.py",
     "varRefreshCmd": "print(var_dic_list())"
    },
    "r": {
     "delete_cmd_postfix": ") ",
     "delete_cmd_prefix": "rm(",
     "library": "var_list.r",
     "varRefreshCmd": "cat(var_dic_list()) "
    }
   },
   "types_to_exclude": [
    "module",
    "function",
    "builtin_function_or_method",
    "instance",
    "_Feature"
   ],
   "window_display": false
  }
 },
 "nbformat": 4,
 "nbformat_minor": 2
}
